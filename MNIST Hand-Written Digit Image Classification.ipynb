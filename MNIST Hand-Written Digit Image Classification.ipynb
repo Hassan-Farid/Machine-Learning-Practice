{
 "cells": [
  {
   "cell_type": "code",
   "execution_count": null,
   "metadata": {
    "id": "eExxW2Uxc4wi"
   },
   "outputs": [],
   "source": [
    "import numpy as np\n",
    "import matplotlib\n",
    "import matplotlib.pyplot as plt\n",
    "from sklearn.datasets import fetch_openml\n",
    "from sklearn.linear_model import SGDClassifier\n",
    "from sklearn.model_selection import StratifiedKFold, cross_val_score, cross_val_predict\n",
    "from sklearn.base import clone, BaseEstimator\n",
    "from sklearn.metrics import confusion_matrix, precision_score, recall_score, f1_score, precision_recall_curve, roc_curve, roc_auc_score\n",
    "from sklearn.ensemble import RandomForestClassifier\n",
    "from sklearn.multiclass import OneVsOneClassifier\n",
    "from sklearn.preprocessing import StandardScaler\n",
    "from sklearn.neighbors import KNeighborsClassifier"
   ]
  },
  {
   "cell_type": "code",
   "execution_count": null,
   "metadata": {
    "colab": {
     "base_uri": "https://localhost:8080/"
    },
    "executionInfo": {
     "elapsed": 26242,
     "status": "ok",
     "timestamp": 1618855980242,
     "user": {
      "displayName": "Hassan Farid",
      "photoUrl": "",
      "userId": "05321934208926622062"
     },
     "user_tz": -300
    },
    "id": "f8wGDNAwen2y",
    "outputId": "36e34775-d34d-43dd-a805-6280cc51cda1"
   },
   "outputs": [
    {
     "name": "stdout",
     "output_type": "stream",
     "text": [
      "(70000, 784)\n",
      "(70000,)\n"
     ]
    }
   ],
   "source": [
    "#Loading the MNIST data\n",
    "mnist = fetch_openml('mnist_784')\n",
    "\n",
    "X, y = mnist['data'], mnist['target']\n",
    "print(X.shape)\n",
    "print(y.shape)"
   ]
  },
  {
   "cell_type": "code",
   "execution_count": null,
   "metadata": {
    "colab": {
     "base_uri": "https://localhost:8080/",
     "height": 248
    },
    "executionInfo": {
     "elapsed": 26210,
     "status": "ok",
     "timestamp": 1618855980251,
     "user": {
      "displayName": "Hassan Farid",
      "photoUrl": "",
      "userId": "05321934208926622062"
     },
     "user_tz": -300
    },
    "id": "ds9awATpf8JA",
    "outputId": "affe99cb-e250-49bf-95d9-3dce914e2968"
   },
   "outputs": [
    {
     "data": {
      "image/png": "[encoded data removed]",
      "text/plain": [
       "<Figure size 432x288 with 1 Axes>"
      ]
     },
     "metadata": {
      "needs_background": "light",
      "tags": []
     },
     "output_type": "display_data"
    }
   ],
   "source": [
    "#Viewing an image from the dataset\n",
    "some_digit=X[35000]\n",
    "some_digit_image = some_digit.reshape(28,28) #Reshaping the image in (784 X 1) to (28 X 28)\n",
    "plt.imshow(some_digit_image, cmap=matplotlib.cm.binary, interpolation=\"nearest\") #Displaying the reshaped image\n",
    "plt.axis(\"off\")\n",
    "plt.show()"
   ]
  },
  {
   "cell_type": "code",
   "execution_count": null,
   "metadata": {
    "colab": {
     "base_uri": "https://localhost:8080/",
     "height": 35
    },
    "executionInfo": {
     "elapsed": 26162,
     "status": "ok",
     "timestamp": 1618855980254,
     "user": {
      "displayName": "Hassan Farid",
      "photoUrl": "",
      "userId": "05321934208926622062"
     },
     "user_tz": -300
    },
    "id": "Rz0-p-SUgnUZ",
    "outputId": "4023817e-052a-451c-9b87-c7214db3dc1a"
   },
   "outputs": [
    {
     "data": {
      "application/vnd.google.colaboratory.intrinsic+json": {
       "type": "string"
      },
      "text/plain": [
       "'1'"
      ]
     },
     "execution_count": 4,
     "metadata": {
      "tags": []
     },
     "output_type": "execute_result"
    }
   ],
   "source": [
    "#Viewing the label of the image\n",
    "y[35000] #Tells us the identification label of the above image"
   ]
  },
  {
   "cell_type": "code",
   "execution_count": null,
   "metadata": {
    "id": "y57kbiijgy4R"
   },
   "outputs": [],
   "source": [
    "#Creating the training and testing datasets\n",
    "X_train, X_test, y_train, y_test = X[:60000], X[60000:], y[:60000], y[60000:]"
   ]
  },
  {
   "cell_type": "code",
   "execution_count": null,
   "metadata": {
    "id": "oNaZ0vGBhmoA"
   },
   "outputs": [],
   "source": [
    "#Performing shuffling of datasets\n",
    "shuffle_index = np.random.permutation(60000)\n",
    "X_train, y_train = X_train[shuffle_index], y_train[shuffle_index]"
   ]
  },
  {
   "cell_type": "markdown",
   "metadata": {
    "id": "b25fP9WUjqFF"
   },
   "source": [
    "# Training a Binary Classifier"
   ]
  },
  {
   "cell_type": "code",
   "execution_count": null,
   "metadata": {
    "id": "gET7IuKLjed2"
   },
   "outputs": [],
   "source": [
    "#Creating a binary classifier to detect whether the number is 9 or not\n",
    "\n",
    "#Creating the data conditions for the classification\n",
    "y_train_1 = (y_train == '1') #True for only the digit 9\n",
    "y_test_1 = (y_test == '1')"
   ]
  },
  {
   "cell_type": "code",
   "execution_count": null,
   "metadata": {
    "colab": {
     "base_uri": "https://localhost:8080/"
    },
    "executionInfo": {
     "elapsed": 40527,
     "status": "ok",
     "timestamp": 1618855994759,
     "user": {
      "displayName": "Hassan Farid",
      "photoUrl": "",
      "userId": "05321934208926622062"
     },
     "user_tz": -300
    },
    "id": "roY06TZgkG6W",
    "outputId": "13f456c1-04d5-4db3-d4fb-7142a3b089c7"
   },
   "outputs": [
    {
     "data": {
      "text/plain": [
       "array([ True])"
      ]
     },
     "execution_count": 8,
     "metadata": {
      "tags": []
     },
     "output_type": "execute_result"
    }
   ],
   "source": [
    "#Creating a SGDClassifier for classification of digit\n",
    "sgd_classifier = SGDClassifier(random_state=42)\n",
    "sgd_classifier.fit(X_train, y_train_1) #Fitting the SGD classifier on the training data\n",
    "\n",
    "#Applying the SGD Classifier to predict digit in the training data\n",
    "sgd_classifier.predict([some_digit])"
   ]
  },
  {
   "cell_type": "code",
   "execution_count": null,
   "metadata": {
    "id": "S2OH3Xa6Uu3J"
   },
   "outputs": [],
   "source": [
    "#Creating a classifier that classifies every image as not 1\n",
    "class Not1Classifier(BaseEstimator):\n",
    "\n",
    "    def fit(self, X, y=None):\n",
    "        pass\n",
    "\n",
    "    def predict(self, X):\n",
    "        return np.zeros((len(X), 1), dtype=bool) "
   ]
  },
  {
   "cell_type": "markdown",
   "metadata": {
    "id": "SWsVFe8lZbnV"
   },
   "source": [
    "# Measuring Performance of the Classifier"
   ]
  },
  {
   "cell_type": "code",
   "execution_count": null,
   "metadata": {
    "colab": {
     "base_uri": "https://localhost:8080/"
    },
    "executionInfo": {
     "elapsed": 40470,
     "status": "ok",
     "timestamp": 1618855994775,
     "user": {
      "displayName": "Hassan Farid",
      "photoUrl": "",
      "userId": "05321934208926622062"
     },
     "user_tz": -300
    },
    "id": "cfGK8yV4ZR5u",
    "outputId": "4ad8ebc2-8913-4ef0-fcb4-fb6556d597ec"
   },
   "outputs": [
    {
     "name": "stdout",
     "output_type": "stream",
     "text": [
      "Scores: [0.88745 0.88695 0.8885 ]\n",
      "Mean: 0.8876333333333334\n",
      "Std. Deviation: 0.0006459274125025152\n"
     ]
    }
   ],
   "source": [
    "#Using cross_validation scores for performance measure\n",
    "def display_scores(scores):\n",
    "    print(\"Scores: {}\".format(scores))\n",
    "    print(\"Mean: {}\".format(scores.mean()))\n",
    "    print(\"Std. Deviation: {}\".format(scores.std()))\n",
    "\n",
    "not1_classifier = Not1Classifier() #Creating a Not1Classifer instance\n",
    "display_scores(cross_val_score(not1_classifier, X_train, y_train_1, cv=3, scoring=\"accuracy\"))"
   ]
  },
  {
   "cell_type": "markdown",
   "metadata": {
    "id": "_jVVf_lHhW_o"
   },
   "source": [
    "Thus, we got ourselves a 88% accurate model on first go. But this is because of the fact that we are just testing whether a particular image is a 1 or not. Since the model only looks if the image is a 1 or not, it is destined to be accurate. That's why in classification problem, performance is measured by other factors not with just accuracy"
   ]
  },
  {
   "cell_type": "code",
   "execution_count": null,
   "metadata": {
    "colab": {
     "base_uri": "https://localhost:8080/"
    },
    "executionInfo": {
     "elapsed": 66369,
     "status": "ok",
     "timestamp": 1618856020745,
     "user": {
      "displayName": "Hassan Farid",
      "photoUrl": "",
      "userId": "05321934208926622062"
     },
     "user_tz": -300
    },
    "id": "q5lnEKlEhxGj",
    "outputId": "f8f0196b-f918-4729-ca6f-a30806ffe655"
   },
   "outputs": [
    {
     "data": {
      "text/plain": [
       "array([False, False, False, ..., False, False, False])"
      ]
     },
     "execution_count": 11,
     "metadata": {
      "tags": []
     },
     "output_type": "execute_result"
    }
   ],
   "source": [
    "#Using cross_validation prediction to get a set of target images\n",
    "y_train_predictions = cross_val_predict(sgd_classifier, X_train, y_train_1, cv=3) \n",
    "y_train_predictions"
   ]
  },
  {
   "cell_type": "code",
   "execution_count": null,
   "metadata": {
    "colab": {
     "base_uri": "https://localhost:8080/"
    },
    "executionInfo": {
     "elapsed": 66321,
     "status": "ok",
     "timestamp": 1618856020749,
     "user": {
      "displayName": "Hassan Farid",
      "photoUrl": "",
      "userId": "05321934208926622062"
     },
     "user_tz": -300
    },
    "id": "5L14uXoMeI65",
    "outputId": "70256a6f-4a58-4f27-9143-a5c5f5ecd3d3"
   },
   "outputs": [
    {
     "data": {
      "text/plain": [
       "array([[52861,   397],\n",
       "       [  250,  6492]])"
      ]
     },
     "execution_count": 12,
     "metadata": {
      "tags": []
     },
     "output_type": "execute_result"
    }
   ],
   "source": [
    "#Creating a confusion matrix from the predictions\n",
    "confusion_matrix(y_train_1, y_train_predictions)"
   ]
  },
  {
   "cell_type": "code",
   "execution_count": null,
   "metadata": {
    "colab": {
     "base_uri": "https://localhost:8080/"
    },
    "executionInfo": {
     "elapsed": 66271,
     "status": "ok",
     "timestamp": 1618856020754,
     "user": {
      "displayName": "Hassan Farid",
      "photoUrl": "",
      "userId": "05321934208926622062"
     },
     "user_tz": -300
    },
    "id": "7WXPyYzNXEaZ",
    "outputId": "3bd0c834-5185-4ce5-ac34-58429583bf78"
   },
   "outputs": [
    {
     "data": {
      "text/plain": [
       "0.9423718972274641"
      ]
     },
     "execution_count": 13,
     "metadata": {
      "tags": []
     },
     "output_type": "execute_result"
    }
   ],
   "source": [
    "#Computing performance metrics\n",
    "\n",
    "#Computing precision \n",
    "precision_score(y_train_1, y_train_predictions) # (precision = TP/(TP + FP))"
   ]
  },
  {
   "cell_type": "code",
   "execution_count": null,
   "metadata": {
    "colab": {
     "base_uri": "https://localhost:8080/"
    },
    "executionInfo": {
     "elapsed": 66232,
     "status": "ok",
     "timestamp": 1618856020757,
     "user": {
      "displayName": "Hassan Farid",
      "photoUrl": "",
      "userId": "05321934208926622062"
     },
     "user_tz": -300
    },
    "id": "_T6nBnOnYlDO",
    "outputId": "e1f8686c-8d80-4dc5-f2b9-da0bfdac69c5"
   },
   "outputs": [
    {
     "data": {
      "text/plain": [
       "0.9629190151290419"
      ]
     },
     "execution_count": 14,
     "metadata": {
      "tags": []
     },
     "output_type": "execute_result"
    }
   ],
   "source": [
    "#Computing recall score\n",
    "recall_score(y_train_1, y_train_predictions) # (recall = TP/(TP + FN))"
   ]
  },
  {
   "cell_type": "code",
   "execution_count": null,
   "metadata": {
    "colab": {
     "base_uri": "https://localhost:8080/"
    },
    "executionInfo": {
     "elapsed": 66191,
     "status": "ok",
     "timestamp": 1618856020759,
     "user": {
      "displayName": "Hassan Farid",
      "photoUrl": "",
      "userId": "05321934208926622062"
     },
     "user_tz": -300
    },
    "id": "6ePQuBqQS38_",
    "outputId": "94382180-b40c-46d6-bde5-1a35352224d3"
   },
   "outputs": [
    {
     "data": {
      "text/plain": [
       "0.952534663634363"
      ]
     },
     "execution_count": 15,
     "metadata": {
      "tags": []
     },
     "output_type": "execute_result"
    }
   ],
   "source": [
    "#Computing f1 score\n",
    "f1_score(y_train_1, y_train_predictions) # (f1 = 2(precision * recall)/(precision + recall))"
   ]
  },
  {
   "cell_type": "code",
   "execution_count": null,
   "metadata": {
    "colab": {
     "base_uri": "https://localhost:8080/"
    },
    "executionInfo": {
     "elapsed": 92218,
     "status": "ok",
     "timestamp": 1618856046828,
     "user": {
      "displayName": "Hassan Farid",
      "photoUrl": "",
      "userId": "05321934208926622062"
     },
     "user_tz": -300
    },
    "id": "b8khR1nOTKUu",
    "outputId": "115ecfcb-a671-467c-c4e2-ac06766c3416"
   },
   "outputs": [
    {
     "data": {
      "text/plain": [
       "array([-39776.72855602, -49057.66567265, -66771.44898988, ...,\n",
       "       -97084.93520145, -62565.58969479, -70099.27942786])"
      ]
     },
     "execution_count": 16,
     "metadata": {
      "tags": []
     },
     "output_type": "execute_result"
    }
   ],
   "source": [
    "#Computing all the decision scores for the classifier\n",
    "y_scores = cross_val_predict(sgd_classifier, X_train, y_train_1, cv=3, method=\"decision_function\")\n",
    "y_scores"
   ]
  },
  {
   "cell_type": "code",
   "execution_count": null,
   "metadata": {
    "colab": {
     "base_uri": "https://localhost:8080/",
     "height": 283
    },
    "executionInfo": {
     "elapsed": 92201,
     "status": "ok",
     "timestamp": 1618856046852,
     "user": {
      "displayName": "Hassan Farid",
      "photoUrl": "",
      "userId": "05321934208926622062"
     },
     "user_tz": -300
    },
    "id": "ndnOm6udZ0kH",
    "outputId": "b32f3736-4899-414e-910a-ff4ceccf0641"
   },
   "outputs": [
    {
     "data": {
      "image/png": "[encoded data removed]",
      "text/plain": [
       "<Figure size 432x288 with 1 Axes>"
      ]
     },
     "metadata": {
      "needs_background": "light",
      "tags": []
     },
     "output_type": "display_data"
    }
   ],
   "source": [
    "#Visualizing the precision and recall values for all possible outputs using a precision_recall_curve\n",
    "def plot_precision_recall_vs_threshold(precisions, recalls, thresholds):\n",
    "    plt.plot(thresholds, precisions[:-1], \"b--\", label=\"Precision\") #Drawing precisions on the plot against thresholds\n",
    "    plt.plot(thresholds, recalls[:-1], \"g--\", label=\"Recall\") #Drawing recalls on the plot against thresholds\n",
    "    plt.xlabel(\"Threshold\") \n",
    "    plt.legend(loc=\"upper left\")\n",
    "    plt.ylim([0,1])\n",
    "\n",
    "#Extracting precisions, recalls and thresholds and plotting their graph\n",
    "precisions, recalls, thresholds = precision_recall_curve(y_train_1, y_scores)\n",
    "plot_precision_recall_vs_threshold(precisions, recalls, thresholds)\n",
    "plt.show()"
   ]
  },
  {
   "cell_type": "code",
   "execution_count": null,
   "metadata": {
    "colab": {
     "base_uri": "https://localhost:8080/",
     "height": 279
    },
    "executionInfo": {
     "elapsed": 93222,
     "status": "ok",
     "timestamp": 1618856047928,
     "user": {
      "displayName": "Hassan Farid",
      "photoUrl": "",
      "userId": "05321934208926622062"
     },
     "user_tz": -300
    },
    "id": "Fw25dYV2a5LW",
    "outputId": "2628c07a-e6c8-4e8a-9ccd-6d1d7e995bed"
   },
   "outputs": [
    {
     "data": {
      "image/png": "[encoded data removed]",
      "text/plain": [
       "<Figure size 432x288 with 1 Axes>"
      ]
     },
     "metadata": {
      "needs_background": "light",
      "tags": []
     },
     "output_type": "display_data"
    }
   ],
   "source": [
    "#Another method to select best precision vs recall values threshold is plotting precision against recalls\n",
    "plt.plot(recalls, precisions, \"b--\")\n",
    "plt.xlabel(\"Recall\")\n",
    "plt.ylabel(\"Precision\")\n",
    "plt.show()"
   ]
  },
  {
   "cell_type": "code",
   "execution_count": null,
   "metadata": {
    "id": "LhAPRmGfbcIY"
   },
   "outputs": [],
   "source": [
    "#Selecting the threshold value for the new_predictions\n",
    "y_train_predictions_90 = (y_scores > 10000)"
   ]
  },
  {
   "cell_type": "code",
   "execution_count": null,
   "metadata": {
    "colab": {
     "base_uri": "https://localhost:8080/"
    },
    "executionInfo": {
     "elapsed": 93197,
     "status": "ok",
     "timestamp": 1618856047969,
     "user": {
      "displayName": "Hassan Farid",
      "photoUrl": "",
      "userId": "05321934208926622062"
     },
     "user_tz": -300
    },
    "id": "pqa9D8o6b7xu",
    "outputId": "fe0e31cb-5335-4753-8065-33a6aaeb2cd7"
   },
   "outputs": [
    {
     "data": {
      "text/plain": [
       "0.9924721469436917"
      ]
     },
     "execution_count": 20,
     "metadata": {
      "tags": []
     },
     "output_type": "execute_result"
    }
   ],
   "source": [
    "#Viewing the precision and recall values for the new predictions\n",
    "precision_score(y_train_1, y_train_predictions_90)"
   ]
  },
  {
   "cell_type": "code",
   "execution_count": null,
   "metadata": {
    "colab": {
     "base_uri": "https://localhost:8080/",
     "height": 283
    },
    "executionInfo": {
     "elapsed": 93157,
     "status": "ok",
     "timestamp": 1618856047973,
     "user": {
      "displayName": "Hassan Farid",
      "photoUrl": "",
      "userId": "05321934208926622062"
     },
     "user_tz": -300
    },
    "id": "zneY2YR_cyNA",
    "outputId": "f795de3a-8d04-498c-fa14-792a197addca"
   },
   "outputs": [
    {
     "data": {
      "image/png": "[encoded data removed]",
      "text/plain": [
       "<Figure size 432x288 with 1 Axes>"
      ]
     },
     "metadata": {
      "needs_background": "light",
      "tags": []
     },
     "output_type": "display_data"
    }
   ],
   "source": [
    "#Visualizing the ROC curve for the classifier\n",
    "def plot_roc_curve(fpr, tpr, label=None):\n",
    "    plt.plot(fpr, tpr, linewidth=2, label=label)\n",
    "    plt.plot([0,1], [0,1], 'k--')\n",
    "    plt.axis([0,1,0,1])\n",
    "    plt.xlabel(\"False Positive Rate\")\n",
    "    plt.ylabel(\"True Positive Rate\")\n",
    "\n",
    "#Extracting precisions, recalls and thresholds and plotting their graph\n",
    "fpr, tpr, thresholds = roc_curve(y_train_1, y_scores)\n",
    "plot_roc_curve(fpr, tpr)\n",
    "plt.show()"
   ]
  },
  {
   "cell_type": "code",
   "execution_count": null,
   "metadata": {
    "colab": {
     "base_uri": "https://localhost:8080/"
    },
    "executionInfo": {
     "elapsed": 93179,
     "status": "ok",
     "timestamp": 1618856048029,
     "user": {
      "displayName": "Hassan Farid",
      "photoUrl": "",
      "userId": "05321934208926622062"
     },
     "user_tz": -300
    },
    "id": "9uAq9Pn8dyVt",
    "outputId": "6066c373-60ae-48b2-e2aa-21b8ee2c2e5b"
   },
   "outputs": [
    {
     "data": {
      "text/plain": [
       "0.9970058577289517"
      ]
     },
     "execution_count": 22,
     "metadata": {
      "tags": []
     },
     "output_type": "execute_result"
    }
   ],
   "source": [
    "#Computing the area under the curve for the ROC curve\n",
    "roc_auc_score(y_train_1, y_scores) #Close to 1 represents better classifier"
   ]
  },
  {
   "cell_type": "code",
   "execution_count": null,
   "metadata": {
    "id": "4xHAA9PDeGLB"
   },
   "outputs": [],
   "source": [
    "#Using a Random Forest Classifier for the classification process to compare with SGD\n",
    "forest_classifier = RandomForestClassifier(random_state=42)\n",
    "\n",
    "#Computing the probablity prediction for the classifier\n",
    "y_probas_forest = cross_val_predict(forest_classifier, X_train, y_train_1, cv=3, method=\"predict_proba\")"
   ]
  },
  {
   "cell_type": "code",
   "execution_count": null,
   "metadata": {
    "id": "vwIaex3tfL0K"
   },
   "outputs": [],
   "source": [
    "#Computing prediciton scores from the probabilities obtained\n",
    "y_scores_forest = y_probas_forest[:, 1]\n",
    "\n",
    "#Evaluating values for ROC curve from Random Forest Classifier\n",
    "fpr_forest, tpr_forest, thresholds = roc_curve(y_train_1, y_scores_forest)"
   ]
  },
  {
   "cell_type": "code",
   "execution_count": null,
   "metadata": {
    "colab": {
     "base_uri": "https://localhost:8080/",
     "height": 283
    },
    "executionInfo": {
     "elapsed": 146644,
     "status": "ok",
     "timestamp": 1618856101603,
     "user": {
      "displayName": "Hassan Farid",
      "photoUrl": "",
      "userId": "05321934208926622062"
     },
     "user_tz": -300
    },
    "id": "SiOSiySMf_OM",
    "outputId": "6b283c52-c76b-450c-da05-84e6ae3f2ae7"
   },
   "outputs": [
    {
     "data": {
      "image/png": "[encoded data removed]",
      "text/plain": [
       "<Figure size 432x288 with 1 Axes>"
      ]
     },
     "metadata": {
      "needs_background": "light",
      "tags": []
     },
     "output_type": "display_data"
    }
   ],
   "source": [
    "#Comparing the ROC curve for Random Forest and SGD\n",
    "plt.plot(fpr, tpr, \"b:\", label=\"SGD\") #Plotting the SGD values\n",
    "plot_roc_curve(fpr_forest, tpr_forest, \"Random Forest\") #Plotting ROC curve for Random Forest\n",
    "plt.legend(loc = \"lower right\")\n",
    "plt.show()"
   ]
  },
  {
   "cell_type": "code",
   "execution_count": null,
   "metadata": {
    "colab": {
     "base_uri": "https://localhost:8080/"
    },
    "executionInfo": {
     "elapsed": 146614,
     "status": "ok",
     "timestamp": 1618856101609,
     "user": {
      "displayName": "Hassan Farid",
      "photoUrl": "",
      "userId": "05321934208926622062"
     },
     "user_tz": -300
    },
    "id": "UyxwswwxTr-T",
    "outputId": "6b2b3206-88b5-4529-9511-223b62a5c27d"
   },
   "outputs": [
    {
     "data": {
      "text/plain": [
       "0.9993188428195021"
      ]
     },
     "execution_count": 26,
     "metadata": {
      "tags": []
     },
     "output_type": "execute_result"
    }
   ],
   "source": [
    "#Viewing Area under the Curve for Random Forest ROC Curve\n",
    "roc_auc_score(y_train_1, y_scores_forest)"
   ]
  },
  {
   "cell_type": "markdown",
   "metadata": {
    "id": "Xaujj8XgUApZ"
   },
   "source": [
    "# Performing MultiClass Classification"
   ]
  },
  {
   "cell_type": "code",
   "execution_count": null,
   "metadata": {
    "colab": {
     "base_uri": "https://localhost:8080/"
    },
    "executionInfo": {
     "elapsed": 332869,
     "status": "ok",
     "timestamp": 1618856287904,
     "user": {
      "displayName": "Hassan Farid",
      "photoUrl": "",
      "userId": "05321934208926622062"
     },
     "user_tz": -300
    },
    "id": "00PQVqKIT53M",
    "outputId": "12c928df-5984-46c7-f695-3d857740a931"
   },
   "outputs": [
    {
     "data": {
      "text/plain": [
       "array(['1'], dtype='<U1')"
      ]
     },
     "execution_count": 27,
     "metadata": {
      "tags": []
     },
     "output_type": "execute_result"
    }
   ],
   "source": [
    "#Performing MultiClass Classification using SGD\n",
    "sgd_classifier.fit(X_train, y_train)\n",
    "sgd_classifier.predict([some_digit])"
   ]
  },
  {
   "cell_type": "code",
   "execution_count": null,
   "metadata": {
    "colab": {
     "base_uri": "https://localhost:8080/"
    },
    "executionInfo": {
     "elapsed": 332814,
     "status": "ok",
     "timestamp": 1618856287912,
     "user": {
      "displayName": "Hassan Farid",
      "photoUrl": "",
      "userId": "05321934208926622062"
     },
     "user_tz": -300
    },
    "id": "7nvhkSqZWQMH",
    "outputId": "d0ed81b5-ad6c-4274-c31f-68633d94fd88"
   },
   "outputs": [
    {
     "data": {
      "text/plain": [
       "array([[-36840.47904166,  12650.67658943,  -7075.25362443,\n",
       "         -2303.60769418, -10061.6684456 ,  -4953.55965577,\n",
       "         -8424.62365848, -13845.10077098,  -4438.47438142,\n",
       "         -3824.67998225]])"
      ]
     },
     "execution_count": 28,
     "metadata": {
      "tags": []
     },
     "output_type": "execute_result"
    }
   ],
   "source": [
    "#Viewing the scores for the SGD Classifier for each class of digits\n",
    "sgd_some_digit_scores = sgd_classifier.decision_function([some_digit])\n",
    "sgd_some_digit_scores"
   ]
  },
  {
   "cell_type": "code",
   "execution_count": null,
   "metadata": {
    "colab": {
     "base_uri": "https://localhost:8080/"
    },
    "executionInfo": {
     "elapsed": 332784,
     "status": "ok",
     "timestamp": 1618856287925,
     "user": {
      "displayName": "Hassan Farid",
      "photoUrl": "",
      "userId": "05321934208926622062"
     },
     "user_tz": -300
    },
    "id": "4W4oH1WAXmZ6",
    "outputId": "c0597c98-e84d-4b54-80b6-0c403b5c131a"
   },
   "outputs": [
    {
     "data": {
      "text/plain": [
       "array(['0', '1', '2', '3', '4', '5', '6', '7', '8', '9'], dtype='<U1')"
      ]
     },
     "execution_count": 29,
     "metadata": {
      "tags": []
     },
     "output_type": "execute_result"
    }
   ],
   "source": [
    "#Viewing the classes for the SGD classifier\n",
    "sgd_classifier.classes_"
   ]
  },
  {
   "cell_type": "code",
   "execution_count": null,
   "metadata": {
    "colab": {
     "base_uri": "https://localhost:8080/",
     "height": 35
    },
    "executionInfo": {
     "elapsed": 332753,
     "status": "ok",
     "timestamp": 1618856287938,
     "user": {
      "displayName": "Hassan Farid",
      "photoUrl": "",
      "userId": "05321934208926622062"
     },
     "user_tz": -300
    },
    "id": "_HXZH9SAX0T7",
    "outputId": "ef0fe14f-7252-4339-a44f-d70997ff9f4f"
   },
   "outputs": [
    {
     "data": {
      "application/vnd.google.colaboratory.intrinsic+json": {
       "type": "string"
      },
      "text/plain": [
       "'1'"
      ]
     },
     "execution_count": 30,
     "metadata": {
      "tags": []
     },
     "output_type": "execute_result"
    }
   ],
   "source": [
    "#Viewing the class for which we got the highest score\n",
    "sgd_classifier.classes_[np.argmax(sgd_some_digit_scores)]"
   ]
  },
  {
   "cell_type": "code",
   "execution_count": null,
   "metadata": {
    "colab": {
     "base_uri": "https://localhost:8080/"
    },
    "executionInfo": {
     "elapsed": 389306,
     "status": "ok",
     "timestamp": 1618856344549,
     "user": {
      "displayName": "Hassan Farid",
      "photoUrl": "",
      "userId": "05321934208926622062"
     },
     "user_tz": -300
    },
    "id": "ujI6NfIGYAK-",
    "outputId": "ecd5a464-3623-425e-a3e1-18735af5eaf4"
   },
   "outputs": [
    {
     "data": {
      "text/plain": [
       "array(['1'], dtype=object)"
      ]
     },
     "execution_count": 31,
     "metadata": {
      "tags": []
     },
     "output_type": "execute_result"
    }
   ],
   "source": [
    "#Using a Multiclass Classifier using OvO(One vs One) strategy based on SGD\n",
    "ovo_classifier = OneVsOneClassifier(SGDClassifier(random_state=42))\n",
    "ovo_classifier.fit(X_train, y_train)\n",
    "ovo_classifier.predict([some_digit])"
   ]
  },
  {
   "cell_type": "code",
   "execution_count": null,
   "metadata": {
    "colab": {
     "base_uri": "https://localhost:8080/"
    },
    "executionInfo": {
     "elapsed": 389258,
     "status": "ok",
     "timestamp": 1618856344557,
     "user": {
      "displayName": "Hassan Farid",
      "photoUrl": "",
      "userId": "05321934208926622062"
     },
     "user_tz": -300
    },
    "id": "IsV38rwdYrQ_",
    "outputId": "7cdaab81-02ec-49e0-ba10-d09963fb762a"
   },
   "outputs": [
    {
     "data": {
      "text/plain": [
       "45"
      ]
     },
     "execution_count": 32,
     "metadata": {
      "tags": []
     },
     "output_type": "execute_result"
    }
   ],
   "source": [
    "#Checking the number of classifiers trained via OnevsOne technique\n",
    "len(ovo_classifier.estimators_)"
   ]
  },
  {
   "cell_type": "code",
   "execution_count": null,
   "metadata": {
    "colab": {
     "base_uri": "https://localhost:8080/"
    },
    "executionInfo": {
     "elapsed": 441295,
     "status": "ok",
     "timestamp": 1618856396635,
     "user": {
      "displayName": "Hassan Farid",
      "photoUrl": "",
      "userId": "05321934208926622062"
     },
     "user_tz": -300
    },
    "id": "-38rO1yaY4e6",
    "outputId": "b6ed5796-f7bb-4de8-8f12-0a39e5c3a0be"
   },
   "outputs": [
    {
     "data": {
      "text/plain": [
       "array(['1'], dtype=object)"
      ]
     },
     "execution_count": 33,
     "metadata": {
      "tags": []
     },
     "output_type": "execute_result"
    }
   ],
   "source": [
    "#Training a RandomForest Classifier for Multiclass CLassification\n",
    "forest_classifier.fit(X_train, y_train)\n",
    "forest_classifier.predict([some_digit])"
   ]
  },
  {
   "cell_type": "code",
   "execution_count": null,
   "metadata": {
    "colab": {
     "base_uri": "https://localhost:8080/"
    },
    "executionInfo": {
     "elapsed": 441267,
     "status": "ok",
     "timestamp": 1618856396641,
     "user": {
      "displayName": "Hassan Farid",
      "photoUrl": "",
      "userId": "05321934208926622062"
     },
     "user_tz": -300
    },
    "id": "PYaEVORPZZsC",
    "outputId": "c4894b6e-c8c4-4791-9538-176b3dbf7ebf"
   },
   "outputs": [
    {
     "data": {
      "text/plain": [
       "array([[0., 1., 0., 0., 0., 0., 0., 0., 0., 0.]])"
      ]
     },
     "execution_count": 34,
     "metadata": {
      "tags": []
     },
     "output_type": "execute_result"
    }
   ],
   "source": [
    "#Viewing probability predictions obtained by Random Forest\n",
    "forest_classifier.predict_proba([some_digit])"
   ]
  },
  {
   "cell_type": "code",
   "execution_count": null,
   "metadata": {
    "colab": {
     "base_uri": "https://localhost:8080/"
    },
    "executionInfo": {
     "elapsed": 738596,
     "status": "ok",
     "timestamp": 1618856694023,
     "user": {
      "displayName": "Hassan Farid",
      "photoUrl": "",
      "userId": "05321934208926622062"
     },
     "user_tz": -300
    },
    "id": "rYPx-XIAZmR0",
    "outputId": "1bcbcc69-1f5e-4a50-e980-a812a704fa2e"
   },
   "outputs": [
    {
     "data": {
      "text/plain": [
       "array([0.86705, 0.88385, 0.8764 ])"
      ]
     },
     "execution_count": 35,
     "metadata": {
      "tags": []
     },
     "output_type": "execute_result"
    }
   ],
   "source": [
    "#Cross-validating scores for the classifier\n",
    "cross_val_score(sgd_classifier, X_train, y_train, cv=3, scoring=\"accuracy\")"
   ]
  },
  {
   "cell_type": "markdown",
   "metadata": {
    "id": "ia5TNQFDeU1i"
   },
   "source": [
    "# Error Analysis"
   ]
  },
  {
   "cell_type": "code",
   "execution_count": null,
   "metadata": {
    "colab": {
     "base_uri": "https://localhost:8080/"
    },
    "executionInfo": {
     "elapsed": 1035847,
     "status": "ok",
     "timestamp": 1618856991323,
     "user": {
      "displayName": "Hassan Farid",
      "photoUrl": "",
      "userId": "05321934208926622062"
     },
     "user_tz": -300
    },
    "id": "XIEj7JO5eKYi",
    "outputId": "81392a65-e3c5-425a-8f41-6b8700b1136c"
   },
   "outputs": [
    {
     "data": {
      "text/plain": [
       "array([[5642,    1,   16,   44,   13,   45,   51,   12,   89,   10],\n",
       "       [   2, 6376,   38,   34,   13,   40,   37,   12,  160,   30],\n",
       "       [  59,   62, 4807,  284,   77,   51,  179,   81,  337,   21],\n",
       "       [  30,   21,  118, 5381,   17,  188,   32,   54,  224,   66],\n",
       "       [  13,   19,   29,   15, 5219,   37,   39,   33,  106,  332],\n",
       "       [  59,   13,   27,  303,   93, 4280,  139,   34,  418,   55],\n",
       "       [  51,    5,   57,   19,   45,  136, 5482,    5,  110,    8],\n",
       "       [  18,   21,   63,   65,   86,   19,    3, 5646,   67,  277],\n",
       "       [  39,   92,   63,  172,   24,  392,   64,   28, 4880,   97],\n",
       "       [  26,   11,   31,   96,  278,   88,    0,  322,  264, 4833]])"
      ]
     },
     "execution_count": 36,
     "metadata": {
      "tags": []
     },
     "output_type": "execute_result"
    }
   ],
   "source": [
    "#Computing the confusion matrix for the classifier\n",
    "y_train_predictions = cross_val_predict(sgd_classifier, X_train, y_train, cv=3)\n",
    "conf_matrix = confusion_matrix(y_train, y_train_predictions)\n",
    "conf_matrix"
   ]
  },
  {
   "cell_type": "code",
   "execution_count": null,
   "metadata": {
    "colab": {
     "base_uri": "https://localhost:8080/",
     "height": 275
    },
    "executionInfo": {
     "elapsed": 1035817,
     "status": "ok",
     "timestamp": 1618856991333,
     "user": {
      "displayName": "Hassan Farid",
      "photoUrl": "",
      "userId": "05321934208926622062"
     },
     "user_tz": -300
    },
    "id": "_VErb1RIWHsU",
    "outputId": "96126751-8d50-4d39-ab75-31e919bee32c"
   },
   "outputs": [
    {
     "data": {
      "image/png": "[encoded data removed]",
      "text/plain": [
       "<Figure size 288x288 with 1 Axes>"
      ]
     },
     "metadata": {
      "needs_background": "light",
      "tags": []
     },
     "output_type": "display_data"
    }
   ],
   "source": [
    "#Visualizing the confusion matrix\n",
    "plt.matshow(conf_matrix, cmap=plt.cm.gray)\n",
    "plt.show()"
   ]
  },
  {
   "cell_type": "code",
   "execution_count": null,
   "metadata": {
    "id": "KiOmezWhWTZ2"
   },
   "outputs": [],
   "source": [
    "#Normalizing the confusion matrix \n",
    "row_sums = conf_matrix.sum(axis=1, keepdims=True) #Summing the total number of images in a particular class\n",
    "norm_matrix = conf_matrix / row_sums #Computing the normalized matrix"
   ]
  },
  {
   "cell_type": "code",
   "execution_count": null,
   "metadata": {
    "colab": {
     "base_uri": "https://localhost:8080/",
     "height": 275
    },
    "executionInfo": {
     "elapsed": 1035753,
     "status": "ok",
     "timestamp": 1618856991345,
     "user": {
      "displayName": "Hassan Farid",
      "photoUrl": "",
      "userId": "05321934208926622062"
     },
     "user_tz": -300
    },
    "id": "BIqjRqsfW0Em",
    "outputId": "22d6b4ac-ba2e-4662-892b-7c2ac371348d"
   },
   "outputs": [
    {
     "data": {
      "image/png": "[encoded data removed]",
      "text/plain": [
       "<Figure size 288x288 with 1 Axes>"
      ]
     },
     "metadata": {
      "needs_background": "light",
      "tags": []
     },
     "output_type": "display_data"
    }
   ],
   "source": [
    "#Visualizing the normalized matrix\n",
    "np.fill_diagonal(norm_matrix, 0) #Removing the diagonal values (correct results) to view only the error values\n",
    "plt.matshow(norm_matrix, cmap=plt.cm.gray)\n",
    "plt.show()"
   ]
  },
  {
   "cell_type": "markdown",
   "metadata": {
    "id": "wiunAUyKc39j"
   },
   "source": [
    "# MultiLabel Classification"
   ]
  },
  {
   "cell_type": "code",
   "execution_count": null,
   "metadata": {
    "id": "GsAjM4xXXOmh"
   },
   "outputs": [],
   "source": [
    "#Creating conditions for Multilabels in MNIST dataset\n",
    "y_train_greater_6 = (y_train.astype(np.int64) > 6)\n",
    "y_train_odd = (y_train.astype(np.int64) % 2 == 1)\n",
    "\n",
    "#Creating a multilabel using the conditions\n",
    "y_multilabel = np.c_[y_train_greater_6, y_train_odd]"
   ]
  },
  {
   "cell_type": "code",
   "execution_count": null,
   "metadata": {
    "colab": {
     "base_uri": "https://localhost:8080/"
    },
    "executionInfo": {
     "elapsed": 1063991,
     "status": "ok",
     "timestamp": 1618857019666,
     "user": {
      "displayName": "Hassan Farid",
      "photoUrl": "",
      "userId": "05321934208926622062"
     },
     "user_tz": -300
    },
    "id": "ALMMibovdw0R",
    "outputId": "01e4ada5-a380-4284-8465-de375b671c6e"
   },
   "outputs": [
    {
     "data": {
      "text/plain": [
       "KNeighborsClassifier(algorithm='auto', leaf_size=30, metric='minkowski',\n",
       "                     metric_params=None, n_jobs=None, n_neighbors=5, p=2,\n",
       "                     weights='uniform')"
      ]
     },
     "execution_count": 41,
     "metadata": {
      "tags": []
     },
     "output_type": "execute_result"
    }
   ],
   "source": [
    "#Applying Multilabel classification using KNeighbours Classifier\n",
    "knn_classifier = KNeighborsClassifier()\n",
    "knn_classifier.fit(X_train, y_multilabel)"
   ]
  },
  {
   "cell_type": "code",
   "execution_count": null,
   "metadata": {
    "colab": {
     "base_uri": "https://localhost:8080/"
    },
    "executionInfo": {
     "elapsed": 1063961,
     "status": "ok",
     "timestamp": 1618857019669,
     "user": {
      "displayName": "Hassan Farid",
      "photoUrl": "",
      "userId": "05321934208926622062"
     },
     "user_tz": -300
    },
    "id": "fxJdKfTreFa9",
    "outputId": "65ec28c7-6fdc-4fd1-bfc7-fd1c54f52ef8"
   },
   "outputs": [
    {
     "data": {
      "text/plain": [
       "array([[False,  True]])"
      ]
     },
     "execution_count": 42,
     "metadata": {
      "tags": []
     },
     "output_type": "execute_result"
    }
   ],
   "source": [
    "#Predicting multilabels using KNeighbours Classifier\n",
    "knn_classifier.predict([some_digit])"
   ]
  },
  {
   "cell_type": "markdown",
   "metadata": {
    "id": "4DflL-S6e6GI"
   },
   "source": [
    "# Multiobject Classification"
   ]
  },
  {
   "cell_type": "code",
   "execution_count": null,
   "metadata": {
    "id": "OlEgVYZpe3j1"
   },
   "outputs": [],
   "source": [
    "#Creating noise for images for multi-object classification\n",
    "noise = np.random.randint(0, 100, (len(X_train), 784))\n",
    "X_train_mod = X_train + noise #Creating a noisy training dataset\n",
    "\n",
    "noise = np.random.randint(0, 100, (len(X_test), 784))\n",
    "X_test_mod = X_test + noise #Creating a noisy testing dataset\n",
    "\n",
    "#Creating instances for the actual dataset\n",
    "y_train_mod = X_train\n",
    "y_test_mod = X_test"
   ]
  },
  {
   "cell_type": "code",
   "execution_count": null,
   "metadata": {
    "colab": {
     "base_uri": "https://localhost:8080/",
     "height": 248
    },
    "executionInfo": {
     "elapsed": 965,
     "status": "ok",
     "timestamp": 1618855261288,
     "user": {
      "displayName": "Hassan Farid",
      "photoUrl": "",
      "userId": "05321934208926622062"
     },
     "user_tz": -300
    },
    "id": "ONVPlCiefyEY",
    "outputId": "6193f930-91e8-4e95-f0fd-c6ee3a12b568"
   },
   "outputs": [
    {
     "data": {
      "image/png": "[encoded data removed]",
      "text/plain": [
       "<Figure size 432x288 with 1 Axes>"
      ]
     },
     "metadata": {
      "needs_background": "light",
      "tags": []
     },
     "output_type": "display_data"
    }
   ],
   "source": [
    "#Viewing image from noisy dataset\n",
    "some_digit=X_train_mod[5000]\n",
    "some_digit_image = some_digit.reshape(28,28) #Reshaping the image in (784 X 1) to (28 X 28)\n",
    "plt.imshow(some_digit_image, cmap=matplotlib.cm.binary, interpolation=\"nearest\") #Displaying the reshaped image\n",
    "plt.axis(\"off\")\n",
    "plt.show()"
   ]
  },
  {
   "cell_type": "code",
   "execution_count": null,
   "metadata": {
    "id": "rmdFHEMnSwq0"
   },
   "outputs": [],
   "source": [
    "#Applying KNeighbours Classifier and cleaning the image\n",
    "knn_classifier.fit(X_train_mod, y_train_mod)\n",
    "clean_digit = knn_classifier.predict([some_digit])"
   ]
  },
  {
   "cell_type": "code",
   "execution_count": null,
   "metadata": {
    "colab": {
     "base_uri": "https://localhost:8080/",
     "height": 248
    },
    "executionInfo": {
     "elapsed": 1210,
     "status": "ok",
     "timestamp": 1618855448861,
     "user": {
      "displayName": "Hassan Farid",
      "photoUrl": "",
      "userId": "05321934208926622062"
     },
     "user_tz": -300
    },
    "id": "gp16jgPoTJ2W",
    "outputId": "6b850542-2adb-416e-cc63-a1e601213782"
   },
   "outputs": [
    {
     "data": {
      "image/png": "[encoded data removed]",
      "text/plain": [
       "<Figure size 432x288 with 1 Axes>"
      ]
     },
     "metadata": {
      "needs_background": "light",
      "tags": []
     },
     "output_type": "display_data"
    }
   ],
   "source": [
    "#Viewing the clean\n",
    "clean_digit = clean_digit.reshape(28,28) #Reshaping the image in (784 X 1) to (28 X 28)\n",
    "plt.imshow(clean_digit, cmap=matplotlib.cm.binary, interpolation=\"nearest\") #Displaying the reshaped image\n",
    "plt.axis(\"off\")\n",
    "plt.show()"
   ]
  }
 ],
 "metadata": {
  "colab": {
   "authorship_tag": "ABX9TyPDVSmJqq3i5v9+mERTFmU+",
   "collapsed_sections": [],
   "name": "MNIST Hand-Written Digit Image Classification.ipynb",
   "provenance": []
  },
  "kernelspec": {
   "display_name": "Python 3",
   "language": "python",
   "name": "python3"
  },
  "language_info": {
   "codemirror_mode": {
    "name": "ipython",
    "version": 3
   },
   "file_extension": ".py",
   "mimetype": "text/x-python",
   "name": "python",
   "nbconvert_exporter": "python",
   "pygments_lexer": "ipython3",
   "version": "3.8.2"
  }
 },
 "nbformat": 4,
 "nbformat_minor": 1
}
